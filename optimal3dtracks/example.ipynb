{
 "cells": [
  {
   "cell_type": "code",
   "execution_count": 2,
   "id": "29cb74e9",
   "metadata": {},
   "outputs": [
    {
     "name": "stdout",
     "output_type": "stream",
     "text": [
      "The autoreload extension is already loaded. To reload it, use:\n",
      "  %reload_ext autoreload\n"
     ]
    }
   ],
   "source": [
    "# Import all necessary tools\n",
    "\n",
    "import os\n",
    "import numpy as np\n",
    "import matplotlib.pyplot as plt\n",
    "\n",
    "from glob import glob\n",
    "from skimage.io import imread,imsave\n",
    "from tqdm import tqdm\n",
    "from pathlib import Path\n",
    "\n",
    "import pickle\n",
    " \n",
    "from optimal3dtracks.utils_3Dtracking import (\n",
    "    calculate_Gaussian_parameters,calculate_track_sections,concatenate_track_sections,\n",
    "    save_intensity_for_TrackMate,save_as_TrackMate,load_TrackMate,\n",
    "    show_4d_with_contours, project_colours, generate_tree)\n"
   ]
  },
  {
   "cell_type": "code",
   "execution_count": null,
   "id": "7189a0ee",
   "metadata": {},
   "outputs": [],
   "source": [
    "# Data directory and results directories\n",
    "\n",
    "folder = 'Embryo1/'\n",
    "intensity_folder = 'intensity'\n",
    "label_folder = 'StarDist3D_filtered'\n",
    "tracks_folder = 'tracks'\n",
    "TrackMate_folder = 'TrackMate'\n",
    "Gaussian_parameters_folder = 'tracks/Gaussian_parameters'\n",
    "affine_folder = 'tracks/affines'\n",
    "track_sections_folder = 'tracks/track_sections'\n",
    "\n",
    "if not os.path.isdir(folder + tracks_folder):\n",
    "    os.makedirs(folder + tracks_folder)\n",
    "if not os.path.isdir(folder + Gaussian_parameters_folder):\n",
    "    os.makedirs(folder + Gaussian_parameters_folder)\n",
    "if not os.path.isdir(folder + affine_folder):\n",
    "    os.makedirs(folder + affine_folder)\n",
    "if not os.path.isdir(folder + track_sections_folder):\n",
    "    os.makedirs(folder + track_sections_folder)\n",
    "if not os.path.isdir(folder + TrackMate_folder):\n",
    "    os.makedirs(folder + TrackMate_folder)\n"
   ]
  },
  {
   "cell_type": "markdown",
   "id": "72418ea6",
   "metadata": {},
   "source": [
    "## Automated tracking using Optimal3dTracks"
   ]
  },
  {
   "cell_type": "code",
   "execution_count": null,
   "id": "ed5caf32",
   "metadata": {},
   "outputs": [],
   "source": [
    "# Calculate and save Gaussian parameters for each region at each time point\n",
    "\n",
    "# MAKE SURE THAT label_files AND intensity_files ARE ORDERED BY TIME\n",
    "\n",
    "label_files = sorted(glob(folder + label_folder + '/*.tif'))[:]\n",
    "intensity_files = sorted(glob(folder + intensity_folder + '/*.tif'))[:]\n",
    "save_folder = folder + Gaussian_parameters_folder\n",
    "\n",
    "resolution = np.array([2,0.174,0.174]) # eg. in um\n",
    "\n",
    "calculate_Gaussian_parameters(label_files, intensity_files, save_folder, resolution)\n",
    "    "
   ]
  },
  {
   "cell_type": "code",
   "execution_count": null,
   "id": "9663e5a3",
   "metadata": {},
   "outputs": [],
   "source": [
    "# Create track segments between consecutive time points\n",
    "\n",
    "# MAKE SURE THAT label_files, intensity_files, AND Gaussian_parameter_files ARE ORDERED BY TIME\n",
    "\n",
    "# Load data files\n",
    "label_files = sorted(glob(folder + label_folder + '/*.tif'))[:]\n",
    "intensity_files = sorted(glob(folder + intensity_folder + '/*.tif'))[:]\n",
    "Gaussian_parameter_files = sorted(glob(folder + Gaussian_parameters_folder + '/*'))[:]\n",
    "save_folder_for_affine = folder + affine_folder\n",
    "save_folder_for_tracks = folder + track_sections_folder\n",
    "\n",
    "# Extract frame numbers from intensity_files\n",
    "frames = [int(os.path.splitext(os.path.basename(file))[0][10:]) for file in intensity_files]\n",
    "print(frames)\n",
    "\n",
    "resolution = np.array([2,0.174,0.174]) # in um\n",
    "max_number_of_cells_per_timepoint = 1000 # it's unlikely that any time point contains more than 1000 \n",
    "# segmented cells (including dirt). Make this as large as you like, but make sure that \n",
    "# n_timepoints*max_number_of_cells_per_timepoint < 2**32 to avoid running into number representation issues\n",
    "\n",
    "calculate_track_sections(label_files, intensity_files, Gaussian_parameter_files, frames, save_folder_for_affine,\n",
    "                              save_folder_for_tracks, resolution, max_number_of_cells_per_timepoint)\n",
    "\n",
    "## This might give a few \"Sinkhorn did not converge\" warnings, but it's fine as long as all the marginals are small enough \n",
    "# (< 0.01)"
   ]
  },
  {
   "cell_type": "code",
   "execution_count": null,
   "id": "d8fbde83",
   "metadata": {},
   "outputs": [],
   "source": [
    "# Concatenate track segments\n",
    "\n",
    "# MAKE SURE THAT Gaussian_parameter_files AND track_files ARE ORDERED BY TIME\n",
    "\n",
    "Gaussian_parameter_files = sorted(glob(folder + Gaussian_parameters_folder + '/*'))[:]\n",
    "track_files = sorted(glob(folder + track_sections_folder + '/*'))[:]\n",
    "save_folder = folder\n",
    "\n",
    "max_number_of_cells_per_timepoint = 1000 # SAME AS ABOVE\n",
    "\n",
    "track_df, split_df, merge_df = concatenate_track_sections(track_files,Gaussian_parameter_files,\n",
    "                                                          save_folder,max_number_of_cells_per_timepoint)"
   ]
  },
  {
   "cell_type": "markdown",
   "id": "bbd41f81",
   "metadata": {},
   "source": [
    "## Track corrections using basic Fiji features\n",
    "\n",
    "We implemented a function to export and import tracks to and from Fiji's (https://imagej.net/software/fiji/) TrackMate tool (https://imagej.net/plugins/trackmate/). Make sure that the intensity image saved below is in the same folder as the .xml file you're working on and is called \"intensity.tif\". Feel free to change the name of the .xml file and/or save as many checkpoints (in the same folder) as you wish.\n"
   ]
  },
  {
   "cell_type": "code",
   "execution_count": null,
   "id": "c601adf7",
   "metadata": {},
   "outputs": [],
   "source": [
    "# Export tracks as .xml readable by Fiji's TrackMate tool for track corrections\n",
    "\n",
    "# MAKE SURE THAT label_files AND intensity_files ARE ORDERED BY TIME\n",
    "\n",
    "# Load segmentations and tracks\n",
    "label_files = sorted(glob(folder + label_folder + '/*.tif'))[:]\n",
    "intensity_files = sorted(glob(folder + intensity_folder + '/*.tif'))[:]\n",
    "with open(folder + '/Tracks_full', \"rb\") as fp: \n",
    "    track_df, split_df, merge_df = pickle.load(fp)\n",
    "\n",
    "dimensions = 3 # You can specify whether you'd like to correct tracks in 3D (dimensions = 3) or on the 2D MIPs (dimensions = 2)\n",
    "resolution = np.array([2,0.174,0.174]) # eg. in um\n",
    "\n",
    "frames = np.unique(track_df['timepoint'])\n",
    "max_number_of_cells_per_timepoint = 1000 # SAME AS ABOVE\n",
    "\n",
    "# Save intensity.tif for TrackMate\n",
    "save_folder = folder + TrackMate_folder\n",
    "save_intensity_for_TrackMate(intensity_files,dimensions,resolution,save_folder)\n",
    "\n",
    "# Save tracks as .xml\n",
    "base_file = 'base_file.xml'\n",
    "save_file = folder + TrackMate_folder + '/initial_tracks.xml'\n",
    "\n",
    "save_as_TrackMate(track_df,split_df,merge_df,label_files,dimensions,resolution,base_file,save_file)"
   ]
  },
  {
   "cell_type": "markdown",
   "id": "9c6b16b2",
   "metadata": {},
   "source": [
    "Now, open Fiji, go to Plugins/Tracking/Load a TrackMate file, and select the .xml file you just saved. Perform track corrections as you like. Keep in mind that adding new spots and moving spots will not translate into the StarDist-3D segmentations, so try avoiding these if you'd like to use any of the re-colouring or display features below. Deleting spots/tracks is fine. "
   ]
  },
  {
   "cell_type": "code",
   "execution_count": null,
   "id": "39f7e387",
   "metadata": {},
   "outputs": [],
   "source": [
    "# Save re-coloured track files (i.e. where tracks are indicated by preservation of label colour over time)\n",
    "\n",
    "# MAKE SURE THAT label_files ARE ORDERED BY TIME\n",
    "\n",
    "# Load label files and tracks\n",
    "label_files = sorted(glob(folder + label_folder + '/*.tif'))[:]\n",
    "file_path = folder + TrackMate_folder + 'final_tracks.xml' # name of your final corrected track file\n",
    "track_df,split_df,merge_df = load_TrackMate(file_path)\n",
    "\n",
    "max_number_of_cells_per_timepoint = 1000 # SAME AS ABOVE\n",
    "\n",
    "\n",
    "for count,file in enumerate(label_files):\n",
    "    \n",
    "    print(file)\n",
    "    \n",
    "    frame = count+1\n",
    "    print('frame = ' + str(frame))\n",
    "    \n",
    "    # Name the output file (this is normally part of the intensity image file name)\n",
    "    output_file_name = os.path.splitext(os.path.basename(file))[0][0:-6] + '_tracks.tif' \n",
    "    \n",
    "    # Load segmentation\n",
    "    Y = imread(file,is_ome=False)\n",
    "    \n",
    "    # Re-colour regions according to track_df\n",
    "    replace_dict = dict(zip(track_df['label'][track_df['timepoint']==frame] % max_number_of_cells_per_timepoint, \n",
    "                            track_df['track_id'][track_df['timepoint']==frame]))\n",
    "    def replace(element):\n",
    "        return replace_dict.get(element,0)\n",
    "    vfunc = np.vectorize(replace)\n",
    "    Y = vfunc(Y)\n",
    "    \n",
    "    # Save re-coloured track files\n",
    "    imsave(folder + tracks_folder + '/' + output_file_name,  Y.astype('uint16'), imagej=True, \n",
    "           resolution=1/resolution[1:3],\n",
    "           metadata={\n",
    "               'spacing': resolution[0],\n",
    "               'unit': 'um',\n",
    "               'axes': 'ZYX'\n",
    "           }) \n",
    "    "
   ]
  },
  {
   "cell_type": "markdown",
   "id": "ccf4d4b0",
   "metadata": {},
   "source": [
    "## Display features"
   ]
  },
  {
   "cell_type": "code",
   "execution_count": null,
   "id": "81da195e",
   "metadata": {},
   "outputs": [],
   "source": [
    "# A python widget for inspecting the segmented tracks as overlay on the intensity image\n",
    "\n",
    "# MAKE SURE THAT label_files AND intensity_files ARE ORDERED BY TIME\n",
    "\n",
    "label_files = sorted(glob(folder + tracks_folder + '/*.tif'))[:]\n",
    "intensity_files = sorted(glob(folder + intensity_files + '/*.tif'))[:]\n",
    "\n",
    "labels = np.concatenate([np.expand_dims(imread(file,is_ome=False),axis=0), for file in tqdm(label_files)])\n",
    "intensities = np.concatenate([np.expand_dims(imread(file,is_ome=False),axis=0), for file in tqdm(intensity_files)])\n",
    "\n",
    "# Show 4D images with countours\n",
    "show_4d_with_contours(np.concatenate(intensities),np.concatenate(labels))"
   ]
  },
  {
   "cell_type": "code",
   "execution_count": null,
   "id": "5f9b7c72",
   "metadata": {},
   "outputs": [],
   "source": [
    "# Show a top-down view of the tracks\n",
    "\n",
    "label_image = imread(sorted(glob(folder + tracks_folder + '/*.tif'))[0],is_ome=False)\n",
    "\n",
    "plt.imshow(project_colours(label_image))"
   ]
  },
  {
   "cell_type": "code",
   "execution_count": null,
   "id": "7f400ec5",
   "metadata": {},
   "outputs": [],
   "source": [
    "# Plot division tree\n",
    "\n",
    "# Load tracks\n",
    "track_df,split_df,merge_df = load_TrackMate(file_path)\n",
    "    \n",
    "tree, start, end = generate_tree(track_df, split_df, merge_df)"
   ]
  }
 ],
 "metadata": {
  "kernelspec": {
   "display_name": "Python 3 (ipykernel)",
   "language": "python",
   "name": "python3"
  },
  "language_info": {
   "codemirror_mode": {
    "name": "ipython",
    "version": 3
   },
   "file_extension": ".py",
   "mimetype": "text/x-python",
   "name": "python",
   "nbconvert_exporter": "python",
   "pygments_lexer": "ipython3",
   "version": "3.11.4"
  }
 },
 "nbformat": 4,
 "nbformat_minor": 5
}
